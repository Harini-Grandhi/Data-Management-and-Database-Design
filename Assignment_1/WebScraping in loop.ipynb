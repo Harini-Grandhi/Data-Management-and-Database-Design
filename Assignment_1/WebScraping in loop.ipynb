{
 "cells": [
  {
   "cell_type": "code",
   "execution_count": 2,
   "metadata": {},
   "outputs": [],
   "source": [
    "from requests import get\n",
    "import pandas as pd\n",
    "import numpy as np\n",
    "from bs4 import BeautifulSoup as bs"
   ]
  },
  {
   "cell_type": "code",
   "execution_count": 19,
   "metadata": {},
   "outputs": [
    {
     "name": "stdout",
     "output_type": "stream",
     "text": [
      "0           https://twitter.com/RepAbraham\n",
      "1             https://twitter.com/RepAdams\n",
      "2      https://twitter.com/Robert_Aderholt\n",
      "3       https://twitter.com/reppeteaguilar\n",
      "4         https://twitter.com/reprickallen\n",
      "6        https://twitter.com/MarkAmodeiNV2\n",
      "7         https://twitter.com/RepArrington\n",
      "8        https://twitter.com/RepBrianBabin\n",
      "9          https://twitter.com/repdonbacon\n",
      "10        https://twitter.com/RepBalderson\n",
      "11         https://twitter.com/RepJimBanks\n",
      "12      https://twitter.com/RepLouBarletta\n",
      "13         https://twitter.com/RepAndyBarr\n",
      "14         https://twitter.com/RepBarragan\n",
      "15        https://twitter.com/RepJoeBarton\n",
      "16        https://twitter.com/RepKarenBass\n",
      "17           https://twitter.com/RepBeatty\n",
      "18          https://twitter.com/RepBecerra\n",
      "19             https://twitter.com/RepBera\n",
      "20      https://twitter.com/RepJackBergman\n",
      "21         https://twitter.com/RepDonBeyer\n",
      "22      https://twitter.com/RepAndyBiggsAZ\n",
      "23     https://twitter.com/RepGusBilirakis\n",
      "24       https://twitter.com/SanfordBishop\n",
      "25       https://twitter.com/RepMikeBishop\n",
      "26        https://twitter.com/RepRobBishop\n",
      "27       https://twitter.com/RepDianeBlack\n",
      "28     https://twitter.com/MarshaBlackburn\n",
      "29          https://twitter.com/RepRodBlum\n",
      "30     https://twitter.com/BlumenauerMedia\n",
      "                      ...                 \n",
      "426       https://twitter.com/RepVisclosky\n",
      "427       https://twitter.com/RepAnnWagner\n",
      "428         https://twitter.com/RepWalberg\n",
      "429      https://twitter.com/RepGregWalden\n",
      "430      https://twitter.com/RepMarkWalker\n",
      "431        https://twitter.com/RepWalorski\n",
      "432     https://twitter.com/RepMimiWalters\n",
      "433         https://twitter.com/RepTimWalz\n",
      "434       https://twitter.com/RepDWStweets\n",
      "435    https://twitter.com/RepMaxineWaters\n",
      "436          https://twitter.com/RepBonnie\n",
      "437          https://twitter.com/TXRandy14\n",
      "438         https://twitter.com/RepWebster\n",
      "439         https://twitter.com/PeterWelch\n",
      "440    https://twitter.com/RepBradWenstrup\n",
      "441       https://twitter.com/RepWesterman\n",
      "442       https://twitter.com/RepSusanWild\n",
      "443       https://twitter.com/RepRWilliams\n",
      "444          https://twitter.com/RepWilson\n",
      "445       https://twitter.com/RepJoeWilson\n",
      "446         https://twitter.com/RobWittman\n",
      "447    https://twitter.com/Rep_SteveWomack\n",
      "448      https://twitter.com/RepRobWoodall\n",
      "449     https://twitter.com/RepJohnYarmuth\n",
      "450      https://twitter.com/RepKevinYoder\n",
      "451         https://twitter.com/RepTedYoho\n",
      "452      https://twitter.com/RepDavidYoung\n",
      "453        https://twitter.com/RepDonYoung\n",
      "454       https://twitter.com/RepLeeZeldin\n",
      "455       https://twitter.com/RepRyanZinke\n",
      "Name: links, Length: 448, dtype: object\n"
     ]
    }
   ],
   "source": [
    "API_data = pd.read_csv('C:/Users/harini/Desktop/DMDD/APIdata.csv')\n",
    "url_list = API_data[API_data.links.notnull()]['links']\n",
    "print(url_list)"
   ]
  },
  {
   "cell_type": "code",
   "execution_count": 55,
   "metadata": {},
   "outputs": [
    {
     "name": "stdout",
     "output_type": "stream",
     "text": [
      "0 0 0 0 0 0 0 0 0 0\n"
     ]
    }
   ],
   "source": [
    "#creating lists for storing data\n",
    "account_name = []\n",
    "account = []\n",
    "user_name = []\n",
    "tweet = []\n",
    "time = []\n",
    "retweet = []\n",
    "likes = []\n",
    "comments = []\n",
    "hashtags = []\n",
    "tags = []\n",
    "replies = []\n",
    "print(len(account_name),len(account),len(user_name),len(tweet),len(time),len(retweet),len(likes),len(hashtags),len(tags),len(replies))"
   ]
  },
  {
   "cell_type": "code",
   "execution_count": 56,
   "metadata": {},
   "outputs": [],
   "source": [
    "for url in url_list:\n",
    "    response  = get(url)\n",
    "    html_soup = bs(response.text,'html.parser')\n",
    "    id_check = html_soup.find(id =\"stream-items-id\")\n",
    "    if(id_check != None):\n",
    "        twitter_container = id_check.find_all(class_ =\"js-stream-item\")\n",
    "        if(twitter_container != None):\n",
    "            for i in range(0,len(twitter_container)):\n",
    "                container = twitter_container[i]\n",
    "                if (container != None):\n",
    "                    tweet_container = container.find(\"p\", class_ = \"js-tweet-text\")\n",
    "                    account_name.append(container.find(\"strong\", class_=\"fullname\").text)\n",
    "                    user_name.append(container.find(\"span\", class_=\"username\").text)\n",
    "                    account.append(container.find(\"span\", class_=\"UserBadges\").text)\n",
    "                    if(tweet_container != None):\n",
    "                        pic = tweet_container.find(\"a\", class_=\"u-hidden\")\n",
    "                        if (pic != None):\n",
    "                            tweet.append(tweet_container.text.replace(pic.text,\" \"))\n",
    "                        else:\n",
    "                            tweet.append(tweet_container.text)\n",
    "                        has = tweet_container.find_all(\"a\", class_ = \"twitter-hashtag\")\n",
    "                        h = []\n",
    "                        if(has != None):\n",
    "                            for j in range(0,len(has)):\n",
    "                                h.append(has[j].text)\n",
    "                            hashtags.append(h)\n",
    "                        else:\n",
    "                            hashtags.append(None)\n",
    "                        rep = tweet_container.find(\"a\", class_= \"twitter-atreply\")\n",
    "                        r = []\n",
    "                        if(rep != None):\n",
    "                            for k in range(0,len(rep)):\n",
    "                                r.append(rep.text)\n",
    "                            tags.append(r)\n",
    "                        else:\n",
    "                            tags.append(None)\n",
    "                    else:\n",
    "                        tweet.append(None)\n",
    "                        hashtags.append(None)\n",
    "                        tags.append(None)\n",
    "                    retweet_container = container.find(\"div\", class_ = \"ProfileTweet-action--retweet\")\n",
    "                    if(retweet_container != None):\n",
    "                        retweet.append(retweet_container.find(\"span\", class_= \"ProfileTweet-actionCountForPresentation\").text)\n",
    "                    else:\n",
    "                        retweet.append(None)\n",
    "                    favorite_container = container.find(\"div\", class_ =\"ProfileTweet-action--favorite\")\n",
    "                    if(favorite_container != None):\n",
    "                        likes.append(favorite_container.find(\"span\", class_ = \"ProfileTweet-actionCountForPresentation\").text)\n",
    "                    else:\n",
    "                        likes.append(None)\n",
    "                    reply_container = container.find(\"div\", class_=\"ProfileTweet-action--reply\")\n",
    "                    if(reply_container != None):\n",
    "                        replies.append(reply_container.find(\"span\", class_ = \"ProfileTweet-actionCountForPresentation\").text)\n",
    "                    else:\n",
    "                        replies.append(None)\n",
    "                    t = container.find(\"a\", class_ = \"tweet-timestamp\")\n",
    "                    if(t != None):\n",
    "                        time.append(container.find(\"a\", class_ = \"tweet-timestamp\").text)\n",
    "                    else:\n",
    "                        time.append(\"0 sec\")"
   ]
  },
  {
   "cell_type": "code",
   "execution_count": 57,
   "metadata": {},
   "outputs": [
    {
     "name": "stdout",
     "output_type": "stream",
     "text": [
      "8805 8805 8805 8805 8805 8805 8805 8805 8805 8805\n"
     ]
    }
   ],
   "source": [
    "print(len(account_name),len(account),len(user_name),len(tweet),len(time),len(retweet),len(likes),len(hashtags),len(tags),len(replies))"
   ]
  },
  {
   "cell_type": "code",
   "execution_count": 58,
   "metadata": {},
   "outputs": [],
   "source": [
    "#converting lists to dataframe\n",
    "twitter_data = pd.DataFrame(np.column_stack([account_name,user_name,account,tweet,hashtags,tags,replies,retweet,likes,time]),\n",
    "                           columns=['account_name','user_name','account_type','tweets','hashtags','tags','replies','retweets','likes','time'])"
   ]
  },
  {
   "cell_type": "code",
   "execution_count": 80,
   "metadata": {},
   "outputs": [
    {
     "data": {
      "text/html": [
       "<div>\n",
       "<style scoped>\n",
       "    .dataframe tbody tr th:only-of-type {\n",
       "        vertical-align: middle;\n",
       "    }\n",
       "\n",
       "    .dataframe tbody tr th {\n",
       "        vertical-align: top;\n",
       "    }\n",
       "\n",
       "    .dataframe thead th {\n",
       "        text-align: right;\n",
       "    }\n",
       "</style>\n",
       "<table border=\"1\" class=\"dataframe\">\n",
       "  <thead>\n",
       "    <tr style=\"text-align: right;\">\n",
       "      <th></th>\n",
       "      <th>account_name</th>\n",
       "      <th>user_name</th>\n",
       "      <th>account_type</th>\n",
       "      <th>tweets</th>\n",
       "      <th>hashtags</th>\n",
       "      <th>tags</th>\n",
       "      <th>replies</th>\n",
       "      <th>retweets</th>\n",
       "      <th>likes</th>\n",
       "      <th>time</th>\n",
       "    </tr>\n",
       "  </thead>\n",
       "  <tbody>\n",
       "    <tr>\n",
       "      <th>0</th>\n",
       "      <td>Rep. Ralph Abraham</td>\n",
       "      <td>@RepAbraham</td>\n",
       "      <td>Verified account</td>\n",
       "      <td>This week, I’m proud to support National Schoo...</td>\n",
       "      <td>[#LA05]</td>\n",
       "      <td>None</td>\n",
       "      <td>7</td>\n",
       "      <td>3</td>\n",
       "      <td>16</td>\n",
       "      <td>Jan 23</td>\n",
       "    </tr>\n",
       "    <tr>\n",
       "      <th>1</th>\n",
       "      <td>Rep. Ralph Abraham</td>\n",
       "      <td>@RepAbraham</td>\n",
       "      <td>Verified account</td>\n",
       "      <td>Today we celebrate the legacy of Dr. Martin Lu...</td>\n",
       "      <td>[]</td>\n",
       "      <td>None</td>\n",
       "      <td>4</td>\n",
       "      <td>1</td>\n",
       "      <td>21</td>\n",
       "      <td>Jan 21</td>\n",
       "    </tr>\n",
       "    <tr>\n",
       "      <th>2</th>\n",
       "      <td>Rep. Ralph Abraham</td>\n",
       "      <td>@RepAbraham</td>\n",
       "      <td>Verified account</td>\n",
       "      <td>As a doctor, I've spent my career protecting l...</td>\n",
       "      <td>[]</td>\n",
       "      <td>None</td>\n",
       "      <td>11</td>\n",
       "      <td>8</td>\n",
       "      <td>41</td>\n",
       "      <td>Jan 18</td>\n",
       "    </tr>\n",
       "    <tr>\n",
       "      <th>3</th>\n",
       "      <td>Rep. Ralph Abraham</td>\n",
       "      <td>@RepAbraham</td>\n",
       "      <td>Verified account</td>\n",
       "      <td>Great to meet some seniors from Opelousas Cath...</td>\n",
       "      <td>[]</td>\n",
       "      <td>None</td>\n",
       "      <td>4</td>\n",
       "      <td>4</td>\n",
       "      <td>26</td>\n",
       "      <td>Jan 15</td>\n",
       "    </tr>\n",
       "    <tr>\n",
       "      <th>4</th>\n",
       "      <td>Steve Scalise</td>\n",
       "      <td>@SteveScalise</td>\n",
       "      <td>Verified account</td>\n",
       "      <td>Glad to see the steel slats are deterring ille...</td>\n",
       "      <td>[#BuildTheWall, #WallsWork]</td>\n",
       "      <td>{@realDonaldTrump}</td>\n",
       "      <td></td>\n",
       "      <td></td>\n",
       "      <td></td>\n",
       "      <td>Jan 10</td>\n",
       "    </tr>\n",
       "  </tbody>\n",
       "</table>\n",
       "</div>"
      ],
      "text/plain": [
       "         account_name      user_name      account_type  \\\n",
       "0  Rep. Ralph Abraham    @RepAbraham  Verified account   \n",
       "1  Rep. Ralph Abraham    @RepAbraham  Verified account   \n",
       "2  Rep. Ralph Abraham    @RepAbraham  Verified account   \n",
       "3  Rep. Ralph Abraham    @RepAbraham  Verified account   \n",
       "4       Steve Scalise  @SteveScalise  Verified account   \n",
       "\n",
       "                                              tweets  \\\n",
       "0  This week, I’m proud to support National Schoo...   \n",
       "1  Today we celebrate the legacy of Dr. Martin Lu...   \n",
       "2  As a doctor, I've spent my career protecting l...   \n",
       "3  Great to meet some seniors from Opelousas Cath...   \n",
       "4  Glad to see the steel slats are deterring ille...   \n",
       "\n",
       "                      hashtags                tags replies retweets likes  \\\n",
       "0                      [#LA05]                None       7        3    16   \n",
       "1                           []                None       4        1    21   \n",
       "2                           []                None      11        8    41   \n",
       "3                           []                None       4        4    26   \n",
       "4  [#BuildTheWall, #WallsWork]  {@realDonaldTrump}                          \n",
       "\n",
       "     time  \n",
       "0  Jan 23  \n",
       "1  Jan 21  \n",
       "2  Jan 18  \n",
       "3  Jan 15  \n",
       "4  Jan 10  "
      ]
     },
     "execution_count": 80,
     "metadata": {},
     "output_type": "execute_result"
    }
   ],
   "source": [
    "twitter_data.head()"
   ]
  },
  {
   "cell_type": "code",
   "execution_count": 77,
   "metadata": {},
   "outputs": [
    {
     "data": {
      "text/plain": [
       "False"
      ]
     },
     "execution_count": 77,
     "metadata": {},
     "output_type": "execute_result"
    }
   ],
   "source": [
    "twitter_data['hashtags'][0] == None"
   ]
  },
  {
   "cell_type": "code",
   "execution_count": 70,
   "metadata": {},
   "outputs": [],
   "source": [
    "twitter_data['tags'][4] = set(twitter_data['tags'][4])"
   ]
  },
  {
   "cell_type": "code",
   "execution_count": 79,
   "metadata": {},
   "outputs": [],
   "source": [
    "for m in range(0,len(twitter_data['tags'])):\n",
    "    if (twitter_data['tags'][m] != None):\n",
    "        twitter_data['tags'][m] = set(twitter_data['tags'][m])"
   ]
  },
  {
   "cell_type": "code",
   "execution_count": null,
   "metadata": {},
   "outputs": [],
   "source": []
  }
 ],
 "metadata": {
  "kernelspec": {
   "display_name": "Python 3",
   "language": "python",
   "name": "python3"
  },
  "language_info": {
   "codemirror_mode": {
    "name": "ipython",
    "version": 3
   },
   "file_extension": ".py",
   "mimetype": "text/x-python",
   "name": "python",
   "nbconvert_exporter": "python",
   "pygments_lexer": "ipython3",
   "version": "3.6.5"
  }
 },
 "nbformat": 4,
 "nbformat_minor": 2
}
